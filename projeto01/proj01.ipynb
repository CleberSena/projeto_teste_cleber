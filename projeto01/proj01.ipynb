{
 "cells": [
  {
   "cell_type": "code",
   "execution_count": 1,
   "metadata": {},
   "outputs": [
    {
     "name": "stdout",
     "output_type": "stream",
     "text": [
      "         \u001b[1;33mBem Vindo Ao Gerador de Testes         \n",
      "\u001b[1;32m-\u001b[1;32m-\u001b[1;32m-\u001b[1;32m-\u001b[1;32m-\u001b[1;32m-\u001b[1;32m-\u001b[1;32m-\u001b[1;32m-\u001b[1;32m-\u001b[1;32m-\u001b[1;32m-\u001b[1;32m-\u001b[1;32m-\u001b[1;32m-\u001b[1;32m-\u001b[1;32m-\u001b[1;32m-\u001b[1;32m-\u001b[1;32m-\u001b[1;32m-\u001b[1;32m-\u001b[1;32m-\u001b[1;32m-\u001b[1;32m-\u001b[1;32m-\u001b[1;32m-\u001b[1;32m-\u001b[1;32m-\u001b[1;32m-\u001b[1;32m-\u001b[1;32m-\u001b[1;32m-\u001b[1;32m-\u001b[1;32m-\u001b[1;32m-\u001b[1;32m-\u001b[1;32m-\u001b[1;32m-\u001b[1;32m-\u001b[1;32m-\u001b[1;32m-\u001b[1;32m-\u001b[1;32m-\u001b[1;32m-\u001b[1;32m-\u001b[1;32m-\u001b[1;32m-\u001b[1;32m-\u001b[1;32m-\n",
      "\u001b[1;36mEscolha Uma ou Mais Opções Abaixo a Serem Geradas Aleatóriamente \n",
      "\u001b[1;32m-\u001b[1;32m-\u001b[1;32m-\u001b[1;32m-\u001b[1;32m-\u001b[1;32m-\u001b[1;32m-\u001b[1;32m-\u001b[1;32m-\u001b[1;32m-\u001b[1;32m-\u001b[1;32m-\u001b[1;32m-\u001b[1;32m-\u001b[1;32m-\u001b[1;32m-\u001b[1;32m-\u001b[1;32m-\u001b[1;32m-\u001b[1;32m-\u001b[1;32m-\u001b[1;32m-\u001b[1;32m-\u001b[1;32m-\u001b[1;32m-\u001b[1;32m-\u001b[1;32m-\u001b[1;32m-\u001b[1;32m-\u001b[1;32m-\u001b[1;32m-\u001b[1;32m-\u001b[1;32m-\u001b[1;32m-\u001b[1;32m-\u001b[1;32m-\u001b[1;32m-\u001b[1;32m-\u001b[1;32m-\u001b[1;32m-\u001b[1;32m-\u001b[1;32m-\u001b[1;32m-\u001b[1;32m-\u001b[1;32m-\u001b[1;32m-\u001b[1;32m-\u001b[1;32m-\u001b[1;32m-\u001b[1;32m-\u001b[1;32m-\u001b[1;32m-\u001b[1;32m-\u001b[1;32m-\u001b[1;32m-\u001b[1;32m-\u001b[1;32m-\u001b[1;32m-\u001b[1;32m-\u001b[1;32m-\u001b[1;32m-\u001b[1;32m-\u001b[1;32m-\u001b[1;32m-\u001b[1;32m-\n",
      "                 \u001b[1;33mMenu Principal                 \n",
      "\u001b[1;32m-\u001b[1;32m-\u001b[1;32m-\u001b[1;32m-\u001b[1;32m-\u001b[1;32m-\u001b[1;32m-\u001b[1;32m-\u001b[1;32m-\u001b[1;32m-\u001b[1;32m-\u001b[1;32m-\u001b[1;32m-\u001b[1;32m-\u001b[1;32m-\u001b[1;32m-\u001b[1;32m-\u001b[1;32m-\u001b[1;32m-\u001b[1;32m-\u001b[1;32m-\u001b[1;32m-\u001b[1;32m-\u001b[1;32m-\u001b[1;32m-\u001b[1;32m-\u001b[1;32m-\u001b[1;32m-\u001b[1;32m-\u001b[1;32m-\u001b[1;32m-\u001b[1;32m-\u001b[1;32m-\u001b[1;32m-\u001b[1;32m-\u001b[1;32m-\u001b[1;32m-\u001b[1;32m-\u001b[1;32m-\u001b[1;32m-\u001b[1;32m-\u001b[1;32m-\u001b[1;32m-\u001b[1;32m-\u001b[1;32m-\u001b[1;32m-\u001b[1;32m-\u001b[1;32m-\u001b[1;32m-\u001b[1;32m-\n",
      "\u001b[1;35m1\u001b[32m =>\u001b[35m Nome\n",
      "\u001b[1;35m2\u001b[32m =>\u001b[35m E-mail\n",
      "\u001b[1;35m3\u001b[32m =>\u001b[35m Telefone\n",
      "\u001b[1;35m4\u001b[32m =>\u001b[35m Cidade\n",
      "\u001b[1;35m5\u001b[32m =>\u001b[35m Estado\n",
      "\u001b[1;35m6\u001b[32m =>\u001b[35m Sair do Sistema\n",
      "\u001b[32mMinas Gerais\n",
      "                 \u001b[1;33mMenu Principal                 \n",
      "\u001b[1;32m-\u001b[1;32m-\u001b[1;32m-\u001b[1;32m-\u001b[1;32m-\u001b[1;32m-\u001b[1;32m-\u001b[1;32m-\u001b[1;32m-\u001b[1;32m-\u001b[1;32m-\u001b[1;32m-\u001b[1;32m-\u001b[1;32m-\u001b[1;32m-\u001b[1;32m-\u001b[1;32m-\u001b[1;32m-\u001b[1;32m-\u001b[1;32m-\u001b[1;32m-\u001b[1;32m-\u001b[1;32m-\u001b[1;32m-\u001b[1;32m-\u001b[1;32m-\u001b[1;32m-\u001b[1;32m-\u001b[1;32m-\u001b[1;32m-\u001b[1;32m-\u001b[1;32m-\u001b[1;32m-\u001b[1;32m-\u001b[1;32m-\u001b[1;32m-\u001b[1;32m-\u001b[1;32m-\u001b[1;32m-\u001b[1;32m-\u001b[1;32m-\u001b[1;32m-\u001b[1;32m-\u001b[1;32m-\u001b[1;32m-\u001b[1;32m-\u001b[1;32m-\u001b[1;32m-\u001b[1;32m-\u001b[1;32m-\n",
      "\u001b[1;35m1\u001b[32m =>\u001b[35m Nome\n",
      "\u001b[1;35m2\u001b[32m =>\u001b[35m E-mail\n",
      "\u001b[1;35m3\u001b[32m =>\u001b[35m Telefone\n",
      "\u001b[1;35m4\u001b[32m =>\u001b[35m Cidade\n",
      "\u001b[1;35m5\u001b[32m =>\u001b[35m Estado\n",
      "\u001b[1;35m6\u001b[32m =>\u001b[35m Sair do Sistema\n",
      "\u001b[37mkalebydev@hgmail.com\n",
      "                 \u001b[1;33mMenu Principal                 \n",
      "\u001b[1;32m-\u001b[1;32m-\u001b[1;32m-\u001b[1;32m-\u001b[1;32m-\u001b[1;32m-\u001b[1;32m-\u001b[1;32m-\u001b[1;32m-\u001b[1;32m-\u001b[1;32m-\u001b[1;32m-\u001b[1;32m-\u001b[1;32m-\u001b[1;32m-\u001b[1;32m-\u001b[1;32m-\u001b[1;32m-\u001b[1;32m-\u001b[1;32m-\u001b[1;32m-\u001b[1;32m-\u001b[1;32m-\u001b[1;32m-\u001b[1;32m-\u001b[1;32m-\u001b[1;32m-\u001b[1;32m-\u001b[1;32m-\u001b[1;32m-\u001b[1;32m-\u001b[1;32m-\u001b[1;32m-\u001b[1;32m-\u001b[1;32m-\u001b[1;32m-\u001b[1;32m-\u001b[1;32m-\u001b[1;32m-\u001b[1;32m-\u001b[1;32m-\u001b[1;32m-\u001b[1;32m-\u001b[1;32m-\u001b[1;32m-\u001b[1;32m-\u001b[1;32m-\u001b[1;32m-\u001b[1;32m-\u001b[1;32m-\n",
      "\u001b[1;35m1\u001b[32m =>\u001b[35m Nome\n",
      "\u001b[1;35m2\u001b[32m =>\u001b[35m E-mail\n",
      "\u001b[1;35m3\u001b[32m =>\u001b[35m Telefone\n",
      "\u001b[1;35m4\u001b[32m =>\u001b[35m Cidade\n",
      "\u001b[1;35m5\u001b[32m =>\u001b[35m Estado\n",
      "\u001b[1;35m6\u001b[32m =>\u001b[35m Sair do Sistema\n",
      "\u001b[36mCleber Winkestroter Sena\n",
      "                 \u001b[1;33mMenu Principal                 \n",
      "\u001b[1;32m-\u001b[1;32m-\u001b[1;32m-\u001b[1;32m-\u001b[1;32m-\u001b[1;32m-\u001b[1;32m-\u001b[1;32m-\u001b[1;32m-\u001b[1;32m-\u001b[1;32m-\u001b[1;32m-\u001b[1;32m-\u001b[1;32m-\u001b[1;32m-\u001b[1;32m-\u001b[1;32m-\u001b[1;32m-\u001b[1;32m-\u001b[1;32m-\u001b[1;32m-\u001b[1;32m-\u001b[1;32m-\u001b[1;32m-\u001b[1;32m-\u001b[1;32m-\u001b[1;32m-\u001b[1;32m-\u001b[1;32m-\u001b[1;32m-\u001b[1;32m-\u001b[1;32m-\u001b[1;32m-\u001b[1;32m-\u001b[1;32m-\u001b[1;32m-\u001b[1;32m-\u001b[1;32m-\u001b[1;32m-\u001b[1;32m-\u001b[1;32m-\u001b[1;32m-\u001b[1;32m-\u001b[1;32m-\u001b[1;32m-\u001b[1;32m-\u001b[1;32m-\u001b[1;32m-\u001b[1;32m-\u001b[1;32m-\n",
      "\u001b[1;35m1\u001b[32m =>\u001b[35m Nome\n",
      "\u001b[1;35m2\u001b[32m =>\u001b[35m E-mail\n",
      "\u001b[1;35m3\u001b[32m =>\u001b[35m Telefone\n",
      "\u001b[1;35m4\u001b[32m =>\u001b[35m Cidade\n",
      "\u001b[1;35m5\u001b[32m =>\u001b[35m Estado\n",
      "\u001b[1;35m6\u001b[32m =>\u001b[35m Sair do Sistema\n",
      "\u001b[31m Saindo do Sistema: Obrigado e até a Próxima\n"
     ]
    }
   ],
   "source": [
    "from bib01 import * \n",
    "\n",
    "cabecalho('\\033[1;33mBem Vindo Ao Gerador de Testes')\n",
    "print('\\033[1;36mEscolha Uma ou Mais Opções Abaixo a Serem Geradas Aleatóriamente ')\n",
    "print(linha(65))\n",
    "dados1 = dadosPessoais()\n",
    "while True:\n",
    "    menu(['Nome', 'E-mail', 'Telefone', 'Cidade', 'Estado', 'Sair do Sistema',])\n",
    "    dados1 = dadosPessoais()\n",
    "    usuario = int(input('Digite ums(as) Opções: '))    \n",
    "    if usuario == 1:\n",
    "        print(dados1.nome)\n",
    "    elif usuario == 2:\n",
    "        print(dados1.email)\n",
    "    elif usuario == 3:\n",
    "        print(dados1.telefone)\n",
    "    elif usuario == 4:\n",
    "        print(dados1.Cidade)\n",
    "    elif usuario == 5:\n",
    "        print(dados1.Estado)\n",
    "    elif usuario == 6:\n",
    "        print('\\033[31m Saindo do Sistema: Obrigado e até a Próxima')\n",
    "        break\n",
    "    else:\n",
    "        if usuario > 6 or not int:\n",
    "            print('\\033[31 Dados informados não são válidos:\\n \\033[36mPor favar escolher uma opção de 1 à 6')"
   ]
  }
 ],
 "metadata": {
  "kernelspec": {
   "display_name": "Python 3",
   "language": "python",
   "name": "python3"
  },
  "language_info": {
   "codemirror_mode": {
    "name": "ipython",
    "version": 3
   },
   "file_extension": ".py",
   "mimetype": "text/x-python",
   "name": "python",
   "nbconvert_exporter": "python",
   "pygments_lexer": "ipython3",
   "version": "3.12.0"
  }
 },
 "nbformat": 4,
 "nbformat_minor": 2
}
