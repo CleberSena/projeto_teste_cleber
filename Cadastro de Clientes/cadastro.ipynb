{
 "cells": [
  {
   "cell_type": "code",
   "execution_count": null,
   "metadata": {},
   "outputs": [],
   "source": [
    "banco_de_dados = []\n",
    "clientes = {}\n",
    "\n",
    "while True:\n",
    "    clientes.clear()\n",
    "    clientes['nome'] = str(input('Digite o nome do cliente: '))\n",
    "    # Verificando se o nome já existe na lista\n",
    "    if any(cliente['nome'] == clientes['nome'] for cliente in banco_de_dados):\n",
    "        print('\\033[31m ERRO!\\033[33m Este nome já está cadastrado. Por favor, forneça um nome diferente.')\n",
    "        continue\n",
    "\n",
    "    while True:\n",
    "        clientes['sexo'] = input('Digite o sexo do cliente:[M/F] ').upper()[0]\n",
    "        if clientes['sexo'] in 'MF':\n",
    "            break\n",
    "        print('\\033[31mERRO!\\033[33m Favor digitar somente M p/ Masculino ou f p/ Feminino:')\n",
    "\n",
    "    clientes['contato'] = input('Digite o contato com DDD: ')\n",
    "\n",
    "    clientes['idade'] = input('Digite a idade:')\n",
    "\n",
    "    banco_de_dados.append(clientes.copy())\n",
    "\n",
    "    while True: \n",
    "        res = input('Quer cadsatrar mais alguém: [S/N]? ').upper()[0]\n",
    "        if res in 'SN':\n",
    "            break\n",
    "        print('\\033[31m ERRO!\\033[33m Favor digitar somente S p/ sim ou N p/ Não.')\n",
    "\n",
    "    if res == 'S':\n",
    "        print('\\033[32m Cadastrando novo cliente:')\n",
    "    else:\n",
    "        break\n",
    "\n",
    "print('\\033[31m Finalizando o sistema de Cadastro:\\033[36m')\n",
    "\n",
    "# Printing each client's information on a new line for better readability\n",
    "for cliente in banco_de_dados:\n",
    "    print(cliente)\n",
    "\n"
   ]
  }
 ],
 "metadata": {
  "kernelspec": {
   "display_name": "base",
   "language": "python",
   "name": "python3"
  },
  "language_info": {
   "codemirror_mode": {
    "name": "ipython",
    "version": 3
   },
   "file_extension": ".py",
   "mimetype": "text/x-python",
   "name": "python",
   "nbconvert_exporter": "python",
   "pygments_lexer": "ipython3",
   "version": "3.11.4"
  }
 },
 "nbformat": 4,
 "nbformat_minor": 2
}
