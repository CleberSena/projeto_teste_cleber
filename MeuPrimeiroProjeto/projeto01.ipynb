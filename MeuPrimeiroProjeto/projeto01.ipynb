{
 "cells": [
  {
   "cell_type": "code",
   "execution_count": 1,
   "metadata": {},
   "outputs": [
    {
     "name": "stdout",
     "output_type": "stream",
     "text": [
      "\u001b[1;36m Por favor Clicar na opção \u001b[1;31m 1\u001b[36m se for seu primeiro Acesso no sistema:\n",
      "--------------------------------------------------\n",
      " \n",
      "   \u001b[1;33m Criando, lendo e manipulando arquivos TXT   \n",
      "--------------------------------------------------\n",
      "\u001b[31m[\u001b[33m1\u001b[31m]\u001b[34m=>\u001b[36m CriarArquivo\n",
      "\u001b[31m[\u001b[33m2\u001b[31m]\u001b[34m=>\u001b[36m Nome\n",
      "\u001b[31m[\u001b[33m3\u001b[31m]\u001b[34m=>\u001b[36m Idade\n",
      "\u001b[31m[\u001b[33m4\u001b[31m]\u001b[34m=>\u001b[36m E-mail\n",
      "\u001b[31m[\u001b[33m5\u001b[31m]\u001b[34m=>\u001b[36m Telefone\n",
      "\u001b[31m[\u001b[33m6\u001b[31m]\u001b[34m=>\u001b[36m Cidade\n",
      "\u001b[31m[\u001b[33m7\u001b[31m]\u001b[34m=>\u001b[36m Estado\n",
      "\u001b[31m[\u001b[33m8\u001b[31m]\u001b[34m=>\u001b[36m AddClientes\n",
      "\u001b[31m[\u001b[33m9\u001b[31m]\u001b[34m=>\u001b[36m Sair do sistema\n",
      " \n",
      "                      Cleber Sena                      \n",
      "--------------------------------------------------\n",
      "\u001b[31m[\u001b[33m1\u001b[31m]\u001b[34m=>\u001b[36m CriarArquivo\n",
      "\u001b[31m[\u001b[33m2\u001b[31m]\u001b[34m=>\u001b[36m Nome\n",
      "\u001b[31m[\u001b[33m3\u001b[31m]\u001b[34m=>\u001b[36m Idade\n",
      "\u001b[31m[\u001b[33m4\u001b[31m]\u001b[34m=>\u001b[36m E-mail\n",
      "\u001b[31m[\u001b[33m5\u001b[31m]\u001b[34m=>\u001b[36m Telefone\n",
      "\u001b[31m[\u001b[33m6\u001b[31m]\u001b[34m=>\u001b[36m Cidade\n",
      "\u001b[31m[\u001b[33m7\u001b[31m]\u001b[34m=>\u001b[36m Estado\n",
      "\u001b[31m[\u001b[33m8\u001b[31m]\u001b[34m=>\u001b[36m AddClientes\n",
      "\u001b[31m[\u001b[33m9\u001b[31m]\u001b[34m=>\u001b[36m Sair do sistema\n",
      "\n",
      "                \u001b[31m Saindo do Sistema!               \n",
      "--------------------------------------------------\n",
      "\u001b[32m Sistema Finalizado com Sucesso:\n"
     ]
    }
   ],
   "source": [
    "from app import *\n",
    "from app2 import *\n",
    "\n",
    "cabeçalho('\\033[1;36m Por favor Clicar na opção \\033[1;31m 1\\033[36m se for seu primeiro Acesso no sistema:')\n",
    "print(' ')\n",
    "cabeçalho('\\033[1;33m Criando, lendo e manipulando arquivos TXT')\n",
    "inicialização()"
   ]
  }
 ],
 "metadata": {
  "kernelspec": {
   "display_name": "Python 3",
   "language": "python",
   "name": "python3"
  },
  "language_info": {
   "codemirror_mode": {
    "name": "ipython",
    "version": 3
   },
   "file_extension": ".py",
   "mimetype": "text/x-python",
   "name": "python",
   "nbconvert_exporter": "python",
   "pygments_lexer": "ipython3",
   "version": "3.12.0"
  }
 },
 "nbformat": 4,
 "nbformat_minor": 2
}
