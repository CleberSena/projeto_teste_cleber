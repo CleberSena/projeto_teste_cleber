{
 "cells": [
  {
   "cell_type": "code",
   "execution_count": null,
   "metadata": {},
   "outputs": [],
   "source": [
    "from app import *\n",
    "from app2 import *\n",
    "\n",
    "cabeçalho('\\033[1;36m Por favor Clicar na opção \\033[1;31m 1\\033[36m se for seu primeiro Acesso no sistema:')\n",
    "print(' ')\n",
    "cabeçalho('\\033[1;33m Criando, lendo e manipulando arquivos TXT')\n",
    "inicialização()"
   ]
  }
 ],
 "metadata": {
  "kernelspec": {
   "display_name": "Python 3",
   "language": "python",
   "name": "python3"
  },
  "language_info": {
   "codemirror_mode": {
    "name": "ipython",
    "version": 3
   },
   "file_extension": ".py",
   "mimetype": "text/x-python",
   "name": "python",
   "nbconvert_exporter": "python",
   "pygments_lexer": "ipython3",
   "version": "3.12.0"
  }
 },
 "nbformat": 4,
 "nbformat_minor": 2
}
